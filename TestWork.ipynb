{
  "nbformat": 4,
  "nbformat_minor": 0,
  "metadata": {
    "colab": {
      "provenance": []
    },
    "kernelspec": {
      "name": "python3",
      "display_name": "Python 3"
    },
    "language_info": {
      "name": "python"
    }
  },
  "cells": [
    {
      "cell_type": "code",
      "execution_count": 1,
      "metadata": {
        "colab": {
          "base_uri": "https://localhost:8080/"
        },
        "id": "LZrWyI6EAyf7",
        "outputId": "1f325fdb-a509-416b-c1a7-50b128c34350"
      },
      "outputs": [
        {
          "output_type": "stream",
          "name": "stdout",
          "text": [
            "fatal: destination path 'AT_academy_TEST' already exists and is not an empty directory.\n",
            "/content/AT_academy_TEST\n"
          ]
        }
      ],
      "source": [
        "import json\n",
        "!git clone https://github.com/simonlobgromov/AT_academy_TEST\n",
        "%cd AT_academy_TEST"
      ]
    },
    {
      "cell_type": "code",
      "source": [
        "!python create_data_script.py --seed 100"
      ],
      "metadata": {
        "colab": {
          "base_uri": "https://localhost:8080/"
        },
        "id": "_Kv0MwUpA53B",
        "outputId": "4099c642-2d4d-46e5-b21e-ad8c6c5a7f20"
      },
      "execution_count": 2,
      "outputs": [
        {
          "output_type": "stream",
          "name": "stdout",
          "text": [
            "---- DATA LOADING ----\n",
            "SEED: 100\n",
            "\n",
            "CHECK \"your_data.json\" IN DERICTORY\n",
            "END SCRIPT\n"
          ]
        }
      ]
    },
    {
      "cell_type": "code",
      "source": [
        "with open('your_data.json', 'r') as f:\n",
        "    data = json.load(f)"
      ],
      "metadata": {
        "id": "6Wy9rWuRA-RP"
      },
      "execution_count": 3,
      "outputs": []
    },
    {
      "cell_type": "code",
      "source": [
        "import pandas as pd\n",
        "import numpy as np"
      ],
      "metadata": {
        "id": "rDQD2nnUBaVF"
      },
      "execution_count": 4,
      "outputs": []
    },
    {
      "cell_type": "code",
      "source": [
        "df = pd.DataFrame(data)"
      ],
      "metadata": {
        "id": "VgBuKAloCSIj"
      },
      "execution_count": 5,
      "outputs": []
    },
    {
      "cell_type": "code",
      "source": [
        "grouped = df.groupby('brand')\n",
        "\n",
        "# Initialize an empty dictionary to store results\n",
        "result = {}\n",
        "result['seed'] = 100\n",
        "# Group the DataFrame by 'brand'\n",
        "grouped = df.groupby('brand')\n",
        "\n",
        "# Iterate over each group\n",
        "for name, group in grouped:\n",
        "    result[name] = {\n",
        "        'count': len(group),\n",
        "        'mean_price': group['selling_price'].mean().round(),\n",
        "        'old_year': group['year'].min(),\n",
        "        'new_year': group['year'].max(),\n",
        "        'moda_fuel': group['fuel'].mode().iloc[0] if not group['fuel'].mode().empty else None\n",
        "    }\n",
        "\n"
      ],
      "metadata": {
        "id": "oMtsDw-QFhTx"
      },
      "execution_count": 6,
      "outputs": []
    },
    {
      "cell_type": "code",
      "source": [
        "result"
      ],
      "metadata": {
        "colab": {
          "base_uri": "https://localhost:8080/"
        },
        "id": "EEk8EvXbEPDV",
        "outputId": "a3c6bcd1-cc30-440e-acca-5c7ba5b54a32"
      },
      "execution_count": 7,
      "outputs": [
        {
          "output_type": "execute_result",
          "data": {
            "text/plain": [
              "{'seed': 100,\n",
              " 'BMW': {'count': 18,\n",
              "  'mean_price': 4027778.0,\n",
              "  'old_year': 2010,\n",
              "  'new_year': 2019,\n",
              "  'moda_fuel': 'Diesel'},\n",
              " 'Ford': {'count': 55,\n",
              "  'mean_price': 506400.0,\n",
              "  'old_year': 2005,\n",
              "  'new_year': 2019,\n",
              "  'moda_fuel': 'Diesel'},\n",
              " 'Volkswagen': {'count': 27,\n",
              "  'mean_price': 569963.0,\n",
              "  'old_year': 2010,\n",
              "  'new_year': 2019,\n",
              "  'moda_fuel': 'Diesel'}}"
            ]
          },
          "metadata": {},
          "execution_count": 7
        }
      ]
    },
    {
      "cell_type": "code",
      "source": [
        "# Convert int64 values to int\n",
        "def convert_int64_to_int(d):\n",
        "    for key, value in d.items():\n",
        "        if isinstance(value, dict):\n",
        "            convert_int64_to_int(value)\n",
        "        elif isinstance(value, np.int64):\n",
        "            d[key] = int(value)\n",
        "\n",
        "convert_int64_to_int(result)"
      ],
      "metadata": {
        "id": "xT5BoX1XE1Y-"
      },
      "execution_count": 11,
      "outputs": []
    },
    {
      "cell_type": "code",
      "source": [
        "# Save to a JSON file\n",
        "with open('data.json', 'w') as file:\n",
        "    json.dump(result, file, indent=4)  # indent=4 for pretty-printing"
      ],
      "metadata": {
        "id": "8FS5BNnxE_Ha"
      },
      "execution_count": 13,
      "outputs": []
    },
    {
      "cell_type": "code",
      "source": [],
      "metadata": {
        "id": "7tZ5s71OIycF"
      },
      "execution_count": null,
      "outputs": []
    }
  ]
}